{
  "nbformat": 4,
  "nbformat_minor": 0,
  "metadata": {
    "colab": {
      "provenance": [],
      "authorship_tag": "ABX9TyPnctmmOnW00HPwi0FZwsDD",
      "include_colab_link": true
    },
    "kernelspec": {
      "name": "python3",
      "display_name": "Python 3"
    },
    "language_info": {
      "name": "python"
    }
  },
  "cells": [
    {
      "cell_type": "markdown",
      "metadata": {
        "id": "view-in-github",
        "colab_type": "text"
      },
      "source": [
        "<a href=\"https://colab.research.google.com/github/majidpourdian/Python/blob/main/Untitled1.ipynb\" target=\"_parent\"><img src=\"https://colab.research.google.com/assets/colab-badge.svg\" alt=\"Open In Colab\"/></a>"
      ]
    },
    {
      "cell_type": "code",
      "execution_count": 17,
      "metadata": {
        "colab": {
          "base_uri": "https://localhost:8080/"
        },
        "id": "o-uDnRZVI6V0",
        "outputId": "3862b5ec-1423-4c0a-fe0f-b6f897c81be4"
      },
      "outputs": [
        {
          "output_type": "stream",
          "name": "stdout",
          "text": [
            "HelloWord\n",
            "15 odd minute\n"
          ]
        }
      ],
      "source": [
        "from datetime import datetime\n",
        "from os import getcwd\n",
        "odds = [ 1, 3, 5, 7, 9, 11, 13, 15, 17, 19, 21, 23, 25, 27, 29, 31, 33, 35, 37, 39, 41, 43, 45, 47, 49, 51, 53, 55, 57, 59]\n",
        "print(\"HelloWord\")\n",
        "right_this_minute = datetime.today().minute\n",
        "if right_this_minute in odds:\n",
        "  print (right_this_minute,\"odd minute\")\n",
        "else :\n",
        "  print (right_this_minute, \"not odds minute\")\n",
        "  where = getcwd()\n",
        "  print(where)"
      ]
    }
  ]
}